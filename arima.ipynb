{
 "cells": [
  {
   "cell_type": "code",
   "execution_count": 42,
   "metadata": {},
   "outputs": [],
   "source": [
    "import numpy as np\n",
    "import pandas as pd\n",
    "import matplotlib.pyplot as plt\n",
    "from pandas.plotting import lag_plot\n",
    "import datetime\n",
    "from statsmodels.tsa.arima.model import ARIMA\n",
    "from sklearn.metrics import mean_squared_error"
   ]
  },
  {
   "cell_type": "code",
   "execution_count": 43,
   "metadata": {},
   "outputs": [],
   "source": [
    "raw = pd.read_csv(\"data/Nov2007-June2009.csv\").to_numpy()"
   ]
  },
  {
   "cell_type": "code",
   "execution_count": 44,
   "metadata": {},
   "outputs": [
    {
     "data": {
      "text/plain": [
       "array([['07/01/2009', 925.03, 931.92, 920.82, 923.33],\n",
       "       ['06/30/2009', 926.79, 930.01, 912.86, 919.32],\n",
       "       ['06/29/2009', 916.0, 927.99, 916.18, 927.23],\n",
       "       ...,\n",
       "       ['11/05/2007', 1502.17, 1510.84, 1489.95, 1502.17],\n",
       "       ['11/02/2007', 1509.65, 1513.15, 1492.53, 1509.65],\n",
       "       ['11/01/2007', 1508.44, 1545.79, 1506.66, 1508.44]], dtype=object)"
      ]
     },
     "execution_count": 44,
     "metadata": {},
     "output_type": "execute_result"
    }
   ],
   "source": [
    "def clean(raw):\n",
    "    for i in range(len(raw)):\n",
    "        for j in range(1,len(raw[0])):\n",
    "            raw[i][j] = float(raw[i][j].replace(\",\", \"\"))\n",
    "clean(raw)\n",
    "raw"
   ]
  },
  {
   "cell_type": "code",
   "execution_count": 45,
   "metadata": {},
   "outputs": [
    {
     "data": {
      "text/html": [
       "<div>\n",
       "<style scoped>\n",
       "    .dataframe tbody tr th:only-of-type {\n",
       "        vertical-align: middle;\n",
       "    }\n",
       "\n",
       "    .dataframe tbody tr th {\n",
       "        vertical-align: top;\n",
       "    }\n",
       "\n",
       "    .dataframe thead th {\n",
       "        text-align: right;\n",
       "    }\n",
       "</style>\n",
       "<table border=\"1\" class=\"dataframe\">\n",
       "  <thead>\n",
       "    <tr style=\"text-align: right;\">\n",
       "      <th></th>\n",
       "      <th>Date</th>\n",
       "      <th>Open</th>\n",
       "      <th>High</th>\n",
       "      <th>Low</th>\n",
       "      <th>Close</th>\n",
       "    </tr>\n",
       "  </thead>\n",
       "  <tbody>\n",
       "    <tr>\n",
       "      <th>0</th>\n",
       "      <td>07/01/2009</td>\n",
       "      <td>925.03</td>\n",
       "      <td>931.92</td>\n",
       "      <td>920.82</td>\n",
       "      <td>923.33</td>\n",
       "    </tr>\n",
       "    <tr>\n",
       "      <th>1</th>\n",
       "      <td>06/30/2009</td>\n",
       "      <td>926.79</td>\n",
       "      <td>930.01</td>\n",
       "      <td>912.86</td>\n",
       "      <td>919.32</td>\n",
       "    </tr>\n",
       "    <tr>\n",
       "      <th>2</th>\n",
       "      <td>06/29/2009</td>\n",
       "      <td>916.0</td>\n",
       "      <td>927.99</td>\n",
       "      <td>916.18</td>\n",
       "      <td>927.23</td>\n",
       "    </tr>\n",
       "    <tr>\n",
       "      <th>3</th>\n",
       "      <td>06/26/2009</td>\n",
       "      <td>916.0</td>\n",
       "      <td>922.0</td>\n",
       "      <td>913.03</td>\n",
       "      <td>918.9</td>\n",
       "    </tr>\n",
       "    <tr>\n",
       "      <th>4</th>\n",
       "      <td>06/25/2009</td>\n",
       "      <td>897.59</td>\n",
       "      <td>921.42</td>\n",
       "      <td>896.27</td>\n",
       "      <td>920.26</td>\n",
       "    </tr>\n",
       "    <tr>\n",
       "      <th>...</th>\n",
       "      <td>...</td>\n",
       "      <td>...</td>\n",
       "      <td>...</td>\n",
       "      <td>...</td>\n",
       "      <td>...</td>\n",
       "    </tr>\n",
       "    <tr>\n",
       "      <th>414</th>\n",
       "      <td>11/07/2007</td>\n",
       "      <td>1475.62</td>\n",
       "      <td>1515.46</td>\n",
       "      <td>1475.04</td>\n",
       "      <td>1475.62</td>\n",
       "    </tr>\n",
       "    <tr>\n",
       "      <th>415</th>\n",
       "      <td>11/06/2007</td>\n",
       "      <td>1520.27</td>\n",
       "      <td>1520.77</td>\n",
       "      <td>1499.07</td>\n",
       "      <td>1520.27</td>\n",
       "    </tr>\n",
       "    <tr>\n",
       "      <th>416</th>\n",
       "      <td>11/05/2007</td>\n",
       "      <td>1502.17</td>\n",
       "      <td>1510.84</td>\n",
       "      <td>1489.95</td>\n",
       "      <td>1502.17</td>\n",
       "    </tr>\n",
       "    <tr>\n",
       "      <th>417</th>\n",
       "      <td>11/02/2007</td>\n",
       "      <td>1509.65</td>\n",
       "      <td>1513.15</td>\n",
       "      <td>1492.53</td>\n",
       "      <td>1509.65</td>\n",
       "    </tr>\n",
       "    <tr>\n",
       "      <th>418</th>\n",
       "      <td>11/01/2007</td>\n",
       "      <td>1508.44</td>\n",
       "      <td>1545.79</td>\n",
       "      <td>1506.66</td>\n",
       "      <td>1508.44</td>\n",
       "    </tr>\n",
       "  </tbody>\n",
       "</table>\n",
       "<p>419 rows × 5 columns</p>\n",
       "</div>"
      ],
      "text/plain": [
       "           Date     Open     High      Low    Close\n",
       "0    07/01/2009   925.03   931.92   920.82   923.33\n",
       "1    06/30/2009   926.79   930.01   912.86   919.32\n",
       "2    06/29/2009    916.0   927.99   916.18   927.23\n",
       "3    06/26/2009    916.0    922.0   913.03    918.9\n",
       "4    06/25/2009   897.59   921.42   896.27   920.26\n",
       "..          ...      ...      ...      ...      ...\n",
       "414  11/07/2007  1475.62  1515.46  1475.04  1475.62\n",
       "415  11/06/2007  1520.27  1520.77  1499.07  1520.27\n",
       "416  11/05/2007  1502.17  1510.84  1489.95  1502.17\n",
       "417  11/02/2007  1509.65  1513.15  1492.53  1509.65\n",
       "418  11/01/2007  1508.44  1545.79  1506.66  1508.44\n",
       "\n",
       "[419 rows x 5 columns]"
      ]
     },
     "execution_count": 45,
     "metadata": {},
     "output_type": "execute_result"
    }
   ],
   "source": [
    "df = pd.DataFrame(raw, columns=[\"Date\",\"Open\",\"High\",\"Low\",\"Close\"])\n",
    "df"
   ]
  },
  {
   "cell_type": "code",
   "execution_count": 46,
   "metadata": {},
   "outputs": [],
   "source": [
    "def str_to_datetime(s):\n",
    "    split = s.split('/')\n",
    "    month, day, year = int(split[0]), int(split[1]), int(split[2])\n",
    "    return datetime.datetime(day= day, month=month, year=year)\n",
    "\n",
    "df[\"Date\"] = df[\"Date\"].apply(str_to_datetime)"
   ]
  },
  {
   "cell_type": "code",
   "execution_count": 47,
   "metadata": {},
   "outputs": [
    {
     "data": {
      "text/html": [
       "<div>\n",
       "<style scoped>\n",
       "    .dataframe tbody tr th:only-of-type {\n",
       "        vertical-align: middle;\n",
       "    }\n",
       "\n",
       "    .dataframe tbody tr th {\n",
       "        vertical-align: top;\n",
       "    }\n",
       "\n",
       "    .dataframe thead th {\n",
       "        text-align: right;\n",
       "    }\n",
       "</style>\n",
       "<table border=\"1\" class=\"dataframe\">\n",
       "  <thead>\n",
       "    <tr style=\"text-align: right;\">\n",
       "      <th></th>\n",
       "      <th>Date</th>\n",
       "      <th>Open</th>\n",
       "      <th>High</th>\n",
       "      <th>Low</th>\n",
       "      <th>Close</th>\n",
       "    </tr>\n",
       "  </thead>\n",
       "  <tbody>\n",
       "    <tr>\n",
       "      <th>0</th>\n",
       "      <td>2009-07-01</td>\n",
       "      <td>925.03</td>\n",
       "      <td>931.92</td>\n",
       "      <td>920.82</td>\n",
       "      <td>923.33</td>\n",
       "    </tr>\n",
       "    <tr>\n",
       "      <th>1</th>\n",
       "      <td>2009-06-30</td>\n",
       "      <td>926.79</td>\n",
       "      <td>930.01</td>\n",
       "      <td>912.86</td>\n",
       "      <td>919.32</td>\n",
       "    </tr>\n",
       "    <tr>\n",
       "      <th>2</th>\n",
       "      <td>2009-06-29</td>\n",
       "      <td>916.0</td>\n",
       "      <td>927.99</td>\n",
       "      <td>916.18</td>\n",
       "      <td>927.23</td>\n",
       "    </tr>\n",
       "    <tr>\n",
       "      <th>3</th>\n",
       "      <td>2009-06-26</td>\n",
       "      <td>916.0</td>\n",
       "      <td>922.0</td>\n",
       "      <td>913.03</td>\n",
       "      <td>918.9</td>\n",
       "    </tr>\n",
       "    <tr>\n",
       "      <th>4</th>\n",
       "      <td>2009-06-25</td>\n",
       "      <td>897.59</td>\n",
       "      <td>921.42</td>\n",
       "      <td>896.27</td>\n",
       "      <td>920.26</td>\n",
       "    </tr>\n",
       "  </tbody>\n",
       "</table>\n",
       "</div>"
      ],
      "text/plain": [
       "        Date    Open    High     Low   Close\n",
       "0 2009-07-01  925.03  931.92  920.82  923.33\n",
       "1 2009-06-30  926.79  930.01  912.86  919.32\n",
       "2 2009-06-29   916.0  927.99  916.18  927.23\n",
       "3 2009-06-26   916.0   922.0  913.03   918.9\n",
       "4 2009-06-25  897.59  921.42  896.27  920.26"
      ]
     },
     "execution_count": 47,
     "metadata": {},
     "output_type": "execute_result"
    }
   ],
   "source": [
    "df.head()"
   ]
  },
  {
   "cell_type": "code",
   "execution_count": 48,
   "metadata": {},
   "outputs": [
    {
     "data": {
      "image/png": "[encoded data removed]",
      "text/plain": [
       "<Figure size 432x288 with 1 Axes>"
      ]
     },
     "metadata": {
      "needs_background": "light"
     },
     "output_type": "display_data"
    }
   ],
   "source": [
    "plt.figure()\n",
    "lag_plot(df['Close'], lag=3)\n",
    "plt.title('SNP 500 - Autocorrelation plot with lag=3')\n",
    "plt.show()"
   ]
  },
  {
   "cell_type": "code",
   "execution_count": 54,
   "metadata": {},
   "outputs": [
    {
     "data": {
      "image/png": "[encoded data removed]",
      "text/plain": [
       "<Figure size 432x288 with 1 Axes>"
      ]
     },
     "metadata": {
      "needs_background": "light"
     },
     "output_type": "display_data"
    }
   ],
   "source": [
    "df.plot(x='Date', y=\"Close\")\n",
    "# plt.plot(df[\"Date\"], df[\"Close\"])\n",
    "plt.title('SNP 500 price')\n",
    "plt.xlabel(\"Date\")\n",
    "plt.ylabel(\"Price\")\n",
    "plt.grid()\n",
    "plt.show()"
   ]
  },
  {
   "cell_type": "code",
   "execution_count": 19,
   "metadata": {},
   "outputs": [
    {
     "ename": "TypeError",
     "evalue": "fit() got an unexpected keyword argument 'disp'",
     "output_type": "error",
     "traceback": [
      "\u001b[1;31m---------------------------------------------------------------------------\u001b[0m",
      "\u001b[1;31mTypeError\u001b[0m                                 Traceback (most recent call last)",
      "\u001b[1;32mc:\\Users\\user\\Documents\\stockmarket-analysis\\arima.ipynb Cell 10\u001b[0m in \u001b[0;36m<cell line: 9>\u001b[1;34m()\u001b[0m\n\u001b[0;32m      <a href='vscode-notebook-cell:/c%3A/Users/user/Documents/stockmarket-analysis/arima.ipynb#X12sZmlsZQ%3D%3D?line=8'>9</a>\u001b[0m \u001b[39mfor\u001b[39;00m time_point \u001b[39min\u001b[39;00m \u001b[39mrange\u001b[39m(N_test_observations):\n\u001b[0;32m     <a href='vscode-notebook-cell:/c%3A/Users/user/Documents/stockmarket-analysis/arima.ipynb#X12sZmlsZQ%3D%3D?line=9'>10</a>\u001b[0m     model \u001b[39m=\u001b[39m ARIMA(history, order\u001b[39m=\u001b[39m(\u001b[39m2\u001b[39m,\u001b[39m1\u001b[39m,\u001b[39m0\u001b[39m))\n\u001b[1;32m---> <a href='vscode-notebook-cell:/c%3A/Users/user/Documents/stockmarket-analysis/arima.ipynb#X12sZmlsZQ%3D%3D?line=10'>11</a>\u001b[0m     model_fit \u001b[39m=\u001b[39m model\u001b[39m.\u001b[39;49mfit(disp\u001b[39m=\u001b[39;49m\u001b[39m0\u001b[39;49m)\n\u001b[0;32m     <a href='vscode-notebook-cell:/c%3A/Users/user/Documents/stockmarket-analysis/arima.ipynb#X12sZmlsZQ%3D%3D?line=11'>12</a>\u001b[0m     output \u001b[39m=\u001b[39m model_fit\u001b[39m.\u001b[39mforecast()\n\u001b[0;32m     <a href='vscode-notebook-cell:/c%3A/Users/user/Documents/stockmarket-analysis/arima.ipynb#X12sZmlsZQ%3D%3D?line=12'>13</a>\u001b[0m     yhat \u001b[39m=\u001b[39m output[\u001b[39m0\u001b[39m]\n",
      "\u001b[1;31mTypeError\u001b[0m: fit() got an unexpected keyword argument 'disp'"
     ]
    }
   ],
   "source": [
    "train_data, test_data = df[0:int(len(df)*0.8)], df[int(len(df)*0.8):]\n",
    "training_data = train_data[\"Close\"].values\n",
    "testing_data = test_data[\"Close\"].values\n",
    "\n",
    "history = [x for x in training_data]\n",
    "model_predictions = []\n",
    "N_test_observations = len(test_data)\n",
    "\n",
    "for time_point in range(N_test_observations):\n",
    "    model = ARIMA(history, order=(2,1,0))\n",
    "    model_fit = model.fit(disp=0)\n",
    "    output = model_fit.forecast()\n",
    "    yhat = output[0]\n",
    "    model_predictions.append(yhat)\n",
    "    true_test_value = test_data[time_point]\n",
    "    history.append(true_test_value)\n",
    "\n",
    "MSE_error = mean_squared_error(test_data, model_predictions)\n",
    "print(f\"Testing Mean Squared Error is {MSE_error}\")\n"
   ]
  },
  {
   "cell_type": "code",
   "execution_count": null,
   "metadata": {},
   "outputs": [],
   "source": []
  }
 ],
 "metadata": {
  "kernelspec": {
   "display_name": "Python 3.9.2 64-bit",
   "language": "python",
   "name": "python3"
  },
  "language_info": {
   "codemirror_mode": {
    "name": "ipython",
    "version": 3
   },
   "file_extension": ".py",
   "mimetype": "text/x-python",
   "name": "python",
   "nbconvert_exporter": "python",
   "pygments_lexer": "ipython3",
   "version": "3.9.2"
  },
  "orig_nbformat": 4,
  "vscode": {
   "interpreter": {
    "hash": "82ed002fa2d4956f5c6aec99bcefe0f73a9f79882f3c9e2319b14958a5896ac5"
   }
  }
 },
 "nbformat": 4,
 "nbformat_minor": 2
}
