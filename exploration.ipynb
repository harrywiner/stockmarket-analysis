{
 "cells": [
  {
   "cell_type": "markdown",
   "metadata": {},
   "source": [
    "# Exploration"
   ]
  },
  {
   "cell_type": "code",
   "execution_count": 583,
   "metadata": {},
   "outputs": [],
   "source": [
    "import pandas as pd\n",
    "import matplotlib.pyplot as plt\n",
    "import datetime\n",
    "import numpy as np\n",
    "import math\n",
    "from keras import layers\n",
    "from keras.models import Sequential\n",
    "from keras.layers import Dense\n",
    "from keras.layers import LSTM\n",
    "from keras.optimizers import Adam\n",
    "from sklearn.preprocessing import MinMaxScaler\n",
    "from sklearn.metrics import mean_squared_error"
   ]
  },
  {
   "cell_type": "code",
   "execution_count": 584,
   "metadata": {},
   "outputs": [],
   "source": [
    "raw = pd.read_csv(\"data/Nov2007-June2009.csv\").to_numpy()"
   ]
  },
  {
   "cell_type": "code",
   "execution_count": 585,
   "metadata": {},
   "outputs": [
    {
     "data": {
      "text/plain": [
       "array([['07/01/2009', 925.03, 931.92, 920.82, 923.33],\n",
       "       ['06/30/2009', 926.79, 930.01, 912.86, 919.32],\n",
       "       ['06/29/2009', 916.0, 927.99, 916.18, 927.23],\n",
       "       ...,\n",
       "       ['11/05/2007', 1502.17, 1510.84, 1489.95, 1502.17],\n",
       "       ['11/02/2007', 1509.65, 1513.15, 1492.53, 1509.65],\n",
       "       ['11/01/2007', 1508.44, 1545.79, 1506.66, 1508.44]], dtype=object)"
      ]
     },
     "execution_count": 585,
     "metadata": {},
     "output_type": "execute_result"
    }
   ],
   "source": [
    "def clean(raw):\n",
    "    for i in range(len(raw)):\n",
    "        for j in range(1,len(raw[0])):\n",
    "            raw[i][j] = float(raw[i][j].replace(\",\", \"\"))\n",
    "clean(raw)\n",
    "raw"
   ]
  },
  {
   "cell_type": "code",
   "execution_count": 586,
   "metadata": {},
   "outputs": [],
   "source": [
    "df = pd.DataFrame(raw, columns=[\"Date\",\"Open\",\"High\",\"Low\",\"Close\"])"
   ]
  },
  {
   "cell_type": "code",
   "execution_count": 587,
   "metadata": {},
   "outputs": [],
   "source": [
    "def str_to_datetime(s):\n",
    "    split = s.split('/')\n",
    "    month, day, year = int(split[0]), int(split[1]), int(split[2])\n",
    "    return datetime.datetime(day= day, month=month, year=year)\n",
    "\n",
    "df[\"Date\"] = df[\"Date\"].apply(str_to_datetime)"
   ]
  },
  {
   "cell_type": "code",
   "execution_count": 588,
   "metadata": {},
   "outputs": [],
   "source": [
    "# def window(dataframe, first_date, last_date, n = 3):\n",
    "#     first = str_to_datetime(first_date)\n",
    "#     last = str_to_datetime(last_date)\n",
    "\n",
    "#     target_date = first\n",
    "\n",
    "#     dates = []\n",
    "#     X, Y = [], []\n",
    "    \n",
    "#     last_time = False\n",
    "#     while True:\n",
    "#         df_subset = dataframe.loc[:target_date].tail(n+1)\n",
    "#         if len(df_subset) != n+1:\n",
    "#             print(f\"Error: Window of size{n} is too large\")\n",
    "#             return\n",
    "        \n",
    "#         values = df_subset[\"Close\"].to_numpy()\n",
    "#         x, y = values[:-1], values[-1]\n",
    "\n",
    "#         dates.append(target_date)\n",
    "#         X.append(x)\n",
    "#         Y.append(y)\n",
    "\n",
    "#         # next_week = dataframe.loc[target_date:target_date+datetime.timedelta(days=2)]\n",
    "#         next_week = dataframe.loc[:target_date].tail(2)\n",
    "#         next_datetime = str(next_week.head(2).tail(1).index.values[0])\n",
    "#         next_date_str = next_datetime.split(\"T\")[0]\n",
    "#         year_month_day = next_date_str.split('-')\n",
    "#         year, month, day = year_month_day\n",
    "#         next_date = datetime.datetime(day=int(day), month=int(month), year=int(year))\n",
    "\n",
    "#         if last_time:\n",
    "#             break\n",
    "#         target_date = next_date\n",
    "#         if target_date == last_date:\n",
    "#             last_time = True\n",
    "\n",
    "#         ret_df = pd.DataFrame({})\n",
    "#         ret_df[\"Target Date\"] = dates\n",
    "\n",
    "#         X = np.array(X)\n",
    "#         for i in range(0, n):\n",
    "#             X[:, i]\n",
    "#             ret_df[f'Target-{n-1}'] = X[:, i]\n",
    "#         ret_df['Target'] = Y\n",
    "#         return ret_df\n",
    "# windowed = window(df, '11/01/2007', '07/01/2009', n=3)\n",
    "# windowed"
   ]
  },
  {
   "cell_type": "code",
   "execution_count": 589,
   "metadata": {},
   "outputs": [],
   "source": [
    "df = df.drop([\"Open\", \"High\", \"Low\"], axis= 1)\n",
    "n = 3\n",
    "for i in range(1, n+1):\n",
    "    df[f\"Target-{i}\"] = df[\"Close\"].shift(-(i))\n",
    "df = df.drop([416,417,418])"
   ]
  },
  {
   "cell_type": "code",
   "execution_count": 590,
   "metadata": {},
   "outputs": [
    {
     "data": {
      "text/html": [
       "<div>\n",
       "<style scoped>\n",
       "    .dataframe tbody tr th:only-of-type {\n",
       "        vertical-align: middle;\n",
       "    }\n",
       "\n",
       "    .dataframe tbody tr th {\n",
       "        vertical-align: top;\n",
       "    }\n",
       "\n",
       "    .dataframe thead th {\n",
       "        text-align: right;\n",
       "    }\n",
       "</style>\n",
       "<table border=\"1\" class=\"dataframe\">\n",
       "  <thead>\n",
       "    <tr style=\"text-align: right;\">\n",
       "      <th></th>\n",
       "      <th>Date</th>\n",
       "      <th>Close</th>\n",
       "      <th>Target-1</th>\n",
       "      <th>Target-2</th>\n",
       "      <th>Target-3</th>\n",
       "    </tr>\n",
       "  </thead>\n",
       "  <tbody>\n",
       "    <tr>\n",
       "      <th>0</th>\n",
       "      <td>2009-07-01</td>\n",
       "      <td>923.33</td>\n",
       "      <td>919.32</td>\n",
       "      <td>927.23</td>\n",
       "      <td>918.9</td>\n",
       "    </tr>\n",
       "    <tr>\n",
       "      <th>1</th>\n",
       "      <td>2009-06-30</td>\n",
       "      <td>919.32</td>\n",
       "      <td>927.23</td>\n",
       "      <td>918.9</td>\n",
       "      <td>920.26</td>\n",
       "    </tr>\n",
       "    <tr>\n",
       "      <th>2</th>\n",
       "      <td>2009-06-29</td>\n",
       "      <td>927.23</td>\n",
       "      <td>918.9</td>\n",
       "      <td>920.26</td>\n",
       "      <td>900.94</td>\n",
       "    </tr>\n",
       "    <tr>\n",
       "      <th>3</th>\n",
       "      <td>2009-06-26</td>\n",
       "      <td>918.9</td>\n",
       "      <td>920.26</td>\n",
       "      <td>900.94</td>\n",
       "      <td>895.1</td>\n",
       "    </tr>\n",
       "    <tr>\n",
       "      <th>4</th>\n",
       "      <td>2009-06-25</td>\n",
       "      <td>920.26</td>\n",
       "      <td>900.94</td>\n",
       "      <td>895.1</td>\n",
       "      <td>893.04</td>\n",
       "    </tr>\n",
       "    <tr>\n",
       "      <th>...</th>\n",
       "      <td>...</td>\n",
       "      <td>...</td>\n",
       "      <td>...</td>\n",
       "      <td>...</td>\n",
       "      <td>...</td>\n",
       "    </tr>\n",
       "    <tr>\n",
       "      <th>411</th>\n",
       "      <td>2007-11-12</td>\n",
       "      <td>1439.18</td>\n",
       "      <td>1453.7</td>\n",
       "      <td>1474.77</td>\n",
       "      <td>1475.62</td>\n",
       "    </tr>\n",
       "    <tr>\n",
       "      <th>412</th>\n",
       "      <td>2007-11-09</td>\n",
       "      <td>1453.7</td>\n",
       "      <td>1474.77</td>\n",
       "      <td>1475.62</td>\n",
       "      <td>1520.27</td>\n",
       "    </tr>\n",
       "    <tr>\n",
       "      <th>413</th>\n",
       "      <td>2007-11-08</td>\n",
       "      <td>1474.77</td>\n",
       "      <td>1475.62</td>\n",
       "      <td>1520.27</td>\n",
       "      <td>1502.17</td>\n",
       "    </tr>\n",
       "    <tr>\n",
       "      <th>414</th>\n",
       "      <td>2007-11-07</td>\n",
       "      <td>1475.62</td>\n",
       "      <td>1520.27</td>\n",
       "      <td>1502.17</td>\n",
       "      <td>1509.65</td>\n",
       "    </tr>\n",
       "    <tr>\n",
       "      <th>415</th>\n",
       "      <td>2007-11-06</td>\n",
       "      <td>1520.27</td>\n",
       "      <td>1502.17</td>\n",
       "      <td>1509.65</td>\n",
       "      <td>1508.44</td>\n",
       "    </tr>\n",
       "  </tbody>\n",
       "</table>\n",
       "<p>416 rows × 5 columns</p>\n",
       "</div>"
      ],
      "text/plain": [
       "          Date    Close Target-1 Target-2 Target-3\n",
       "0   2009-07-01   923.33   919.32   927.23    918.9\n",
       "1   2009-06-30   919.32   927.23    918.9   920.26\n",
       "2   2009-06-29   927.23    918.9   920.26   900.94\n",
       "3   2009-06-26    918.9   920.26   900.94    895.1\n",
       "4   2009-06-25   920.26   900.94    895.1   893.04\n",
       "..         ...      ...      ...      ...      ...\n",
       "411 2007-11-12  1439.18   1453.7  1474.77  1475.62\n",
       "412 2007-11-09   1453.7  1474.77  1475.62  1520.27\n",
       "413 2007-11-08  1474.77  1475.62  1520.27  1502.17\n",
       "414 2007-11-07  1475.62  1520.27  1502.17  1509.65\n",
       "415 2007-11-06  1520.27  1502.17  1509.65  1508.44\n",
       "\n",
       "[416 rows x 5 columns]"
      ]
     },
     "execution_count": 590,
     "metadata": {},
     "output_type": "execute_result"
    }
   ],
   "source": [
    "df"
   ]
  },
  {
   "cell_type": "code",
   "execution_count": 591,
   "metadata": {},
   "outputs": [
    {
     "data": {
      "text/plain": [
       "((416,), (416, 3, 1), (416,))"
      ]
     },
     "execution_count": 591,
     "metadata": {},
     "output_type": "execute_result"
    }
   ],
   "source": [
    "def window_to_np(dataframe):\n",
    "    np_df = dataframe.to_numpy()\n",
    "    # get all the rows but just the first column\n",
    "    dates = np_df[:, 0]\n",
    "\n",
    "    input = np_df[:, 2:]\n",
    "    # 1 bc only one variable\n",
    "    x = input.reshape((len(dates), input.shape[1], 1))\n",
    "    # check Y\n",
    "    y = np_df[:,1]\n",
    "    return dates, x.astype(np.float32), y.astype(np.float32)\n",
    "\n",
    "dates, x, y = window_to_np(df)\n",
    "dates.shape, x.shape, y.shape"
   ]
  },
  {
   "cell_type": "code",
   "execution_count": 592,
   "metadata": {},
   "outputs": [
    {
     "data": {
      "text/plain": [
       "<matplotlib.legend.Legend at 0x20590542af0>"
      ]
     },
     "execution_count": 592,
     "metadata": {},
     "output_type": "execute_result"
    },
    {
     "data": {
      "image/png": "[encoded data removed]",
      "text/plain": [
       "<Figure size 432x288 with 1 Axes>"
      ]
     },
     "metadata": {
      "needs_background": "light"
     },
     "output_type": "display_data"
    }
   ],
   "source": [
    "# q_80 = int(len(dates) * .8)\n",
    "# q_90 = int(len(dates) * .9)\n",
    "\n",
    "# dates_train, X_train, y_train = dates[:q_80], X[:q_80], Y[:q_80]\n",
    "# dates_val, X_val, y_val = dates[q_80:q_90], X[q_80:q_90], Y[q_80:q_90]\n",
    "# dates_test, X_test, y_test = dates[q_90:], X[q_90:], Y[q_90:]\n",
    "\n",
    "q_10 = int(len(dates) * .1)\n",
    "q_20 = int(len(dates) * .2)\n",
    "\n",
    "dates_train, x_train, y_train = dates[q_20:], x[q_20:], y[q_20:]\n",
    "dates_val, x_val, y_val = dates[q_10:q_20], x[q_10:q_20], y[q_10:q_20]\n",
    "dates_test, x_test, y_test = dates[:q_10], x[:q_10], y[:q_10]\n",
    "\n",
    "plt.plot(dates_train, y_train)\n",
    "plt.plot(dates_val, y_val)\n",
    "plt.plot(dates_test, y_test)\n",
    "\n",
    "plt.legend(['Train', 'Validation', 'Test'])\n"
   ]
  },
  {
   "cell_type": "code",
   "execution_count": 593,
   "metadata": {},
   "outputs": [
    {
     "data": {
      "text/plain": [
       "<AxesSubplot:xlabel='Date'>"
      ]
     },
     "execution_count": 593,
     "metadata": {},
     "output_type": "execute_result"
    },
    {
     "data": {
      "image/png": "[encoded data removed]",
      "text/plain": [
       "<Figure size 432x288 with 1 Axes>"
      ]
     },
     "metadata": {
      "needs_background": "light"
     },
     "output_type": "display_data"
    }
   ],
   "source": [
    "# remove most left column\n",
    "new_df = df.copy()\n",
    "new_df.index = new_df.pop(\"Date\")\n",
    "# plt.plot(new_df.index, df[\"Close\"])\n",
    "# df.index\n",
    "original = new_df[\"Close\"].plot()\n",
    "original"
   ]
  },
  {
   "cell_type": "code",
   "execution_count": 595,
   "metadata": {},
   "outputs": [
    {
     "name": "stdout",
     "output_type": "stream",
     "text": [
      "Epoch 1/100\n",
      "11/11 [==============================] - 3s 57ms/step - loss: 1491426.5000 - mean_absolute_error: 1198.7869 - val_loss: 663622.3125 - val_mean_absolute_error: 812.7095\n",
      "Epoch 2/100\n",
      "11/11 [==============================] - 0s 8ms/step - loss: 1490336.2500 - mean_absolute_error: 1198.3330 - val_loss: 662823.3125 - val_mean_absolute_error: 812.2178\n",
      "Epoch 3/100\n",
      "11/11 [==============================] - 0s 7ms/step - loss: 1489212.3750 - mean_absolute_error: 1197.8636 - val_loss: 661785.2500 - val_mean_absolute_error: 811.5785\n",
      "Epoch 4/100\n",
      "11/11 [==============================] - 0s 16ms/step - loss: 1487227.2500 - mean_absolute_error: 1197.0339 - val_loss: 660209.3125 - val_mean_absolute_error: 810.6066\n",
      "Epoch 5/100\n",
      "11/11 [==============================] - 0s 10ms/step - loss: 1484181.0000 - mean_absolute_error: 1195.7615 - val_loss: 657722.5000 - val_mean_absolute_error: 809.0716\n",
      "Epoch 6/100\n",
      "11/11 [==============================] - 0s 10ms/step - loss: 1480499.1250 - mean_absolute_error: 1194.2202 - val_loss: 654964.4375 - val_mean_absolute_error: 807.3654\n",
      "Epoch 7/100\n",
      "11/11 [==============================] - 0s 10ms/step - loss: 1475682.2500 - mean_absolute_error: 1192.1982 - val_loss: 650950.9375 - val_mean_absolute_error: 804.8760\n",
      "Epoch 8/100\n",
      "11/11 [==============================] - 0s 22ms/step - loss: 1469156.2500 - mean_absolute_error: 1189.4535 - val_loss: 645971.6875 - val_mean_absolute_error: 801.7770\n",
      "Epoch 9/100\n",
      "11/11 [==============================] - 0s 16ms/step - loss: 1460852.5000 - mean_absolute_error: 1185.9636 - val_loss: 639500.0000 - val_mean_absolute_error: 797.7308\n",
      "Epoch 10/100\n",
      "11/11 [==============================] - 0s 16ms/step - loss: 1450192.8750 - mean_absolute_error: 1181.4790 - val_loss: 631393.6250 - val_mean_absolute_error: 792.6337\n",
      "Epoch 11/100\n",
      "11/11 [==============================] - 0s 7ms/step - loss: 1437030.3750 - mean_absolute_error: 1175.8789 - val_loss: 621463.0000 - val_mean_absolute_error: 786.3444\n",
      "Epoch 12/100\n",
      "11/11 [==============================] - 0s 13ms/step - loss: 1420996.6250 - mean_absolute_error: 1169.0448 - val_loss: 609581.4375 - val_mean_absolute_error: 778.7528\n",
      "Epoch 13/100\n",
      "11/11 [==============================] - 0s 16ms/step - loss: 1401921.2500 - mean_absolute_error: 1160.8376 - val_loss: 595570.5625 - val_mean_absolute_error: 769.7046\n",
      "Epoch 14/100\n",
      "11/11 [==============================] - 0s 13ms/step - loss: 1379436.5000 - mean_absolute_error: 1151.1219 - val_loss: 579317.4375 - val_mean_absolute_error: 759.0731\n",
      "Epoch 15/100\n",
      "11/11 [==============================] - 0s 20ms/step - loss: 1352700.1250 - mean_absolute_error: 1139.4919 - val_loss: 559280.1250 - val_mean_absolute_error: 745.7578\n",
      "Epoch 16/100\n",
      "11/11 [==============================] - 0s 13ms/step - loss: 1320694.6250 - mean_absolute_error: 1125.3646 - val_loss: 536792.8750 - val_mean_absolute_error: 730.5249\n",
      "Epoch 17/100\n",
      "11/11 [==============================] - 0s 13ms/step - loss: 1282998.2500 - mean_absolute_error: 1108.4741 - val_loss: 509158.3438 - val_mean_absolute_error: 711.3599\n",
      "Epoch 18/100\n",
      "11/11 [==============================] - 0s 12ms/step - loss: 1238657.0000 - mean_absolute_error: 1088.3663 - val_loss: 479436.2812 - val_mean_absolute_error: 690.1526\n",
      "Epoch 19/100\n",
      "11/11 [==============================] - 0s 9ms/step - loss: 1189606.0000 - mean_absolute_error: 1065.6252 - val_loss: 444102.5312 - val_mean_absolute_error: 664.0614\n",
      "Epoch 20/100\n",
      "11/11 [==============================] - 0s 20ms/step - loss: 1131831.8750 - mean_absolute_error: 1037.9690 - val_loss: 407108.0625 - val_mean_absolute_error: 635.5963\n",
      "Epoch 21/100\n",
      "11/11 [==============================] - 0s 16ms/step - loss: 1070834.8750 - mean_absolute_error: 1008.0484 - val_loss: 367639.9062 - val_mean_absolute_error: 603.7502\n",
      "Epoch 22/100\n",
      "11/11 [==============================] - 0s 17ms/step - loss: 1004615.1250 - mean_absolute_error: 974.8078 - val_loss: 326473.7812 - val_mean_absolute_error: 568.6372\n",
      "Epoch 23/100\n",
      "11/11 [==============================] - 0s 13ms/step - loss: 934436.1250 - mean_absolute_error: 938.3419 - val_loss: 284312.3438 - val_mean_absolute_error: 530.2706\n",
      "Epoch 24/100\n",
      "11/11 [==============================] - 0s 14ms/step - loss: 861920.1875 - mean_absolute_error: 898.3699 - val_loss: 241669.7188 - val_mean_absolute_error: 488.4099\n",
      "Epoch 25/100\n",
      "11/11 [==============================] - 0s 15ms/step - loss: 786422.3125 - mean_absolute_error: 855.4825 - val_loss: 200229.3125 - val_mean_absolute_error: 443.9637\n",
      "Epoch 26/100\n",
      "11/11 [==============================] - 0s 10ms/step - loss: 710311.1875 - mean_absolute_error: 809.9478 - val_loss: 160742.6875 - val_mean_absolute_error: 397.0103\n",
      "Epoch 27/100\n",
      "11/11 [==============================] - 0s 10ms/step - loss: 635104.6875 - mean_absolute_error: 761.7351 - val_loss: 123734.6328 - val_mean_absolute_error: 347.2882\n",
      "Epoch 28/100\n",
      "11/11 [==============================] - 0s 13ms/step - loss: 560485.0625 - mean_absolute_error: 711.0164 - val_loss: 90439.1328 - val_mean_absolute_error: 295.4886\n",
      "Epoch 29/100\n",
      "11/11 [==============================] - 0s 20ms/step - loss: 488525.4688 - mean_absolute_error: 658.5114 - val_loss: 61722.7969 - val_mean_absolute_error: 242.0685\n",
      "Epoch 30/100\n",
      "11/11 [==============================] - 0s 7ms/step - loss: 420216.1562 - mean_absolute_error: 604.8986 - val_loss: 38523.4883 - val_mean_absolute_error: 188.1430\n",
      "Epoch 31/100\n",
      "11/11 [==============================] - 0s 9ms/step - loss: 358012.8438 - mean_absolute_error: 550.7069 - val_loss: 20999.2832 - val_mean_absolute_error: 133.8204\n",
      "Epoch 32/100\n",
      "11/11 [==============================] - 0s 15ms/step - loss: 300819.4688 - mean_absolute_error: 496.4663 - val_loss: 9478.6230 - val_mean_absolute_error: 88.4042\n",
      "Epoch 33/100\n",
      "11/11 [==============================] - 0s 10ms/step - loss: 250338.7656 - mean_absolute_error: 444.2350 - val_loss: 3807.0156 - val_mean_absolute_error: 53.7080\n",
      "Epoch 34/100\n",
      "11/11 [==============================] - 0s 9ms/step - loss: 206267.6250 - mean_absolute_error: 394.0743 - val_loss: 3787.4702 - val_mean_absolute_error: 44.0565\n",
      "Epoch 35/100\n",
      "11/11 [==============================] - 0s 9ms/step - loss: 169132.1875 - mean_absolute_error: 351.9726 - val_loss: 8756.2773 - val_mean_absolute_error: 75.9496\n",
      "Epoch 36/100\n",
      "11/11 [==============================] - 0s 11ms/step - loss: 139339.5781 - mean_absolute_error: 321.3158 - val_loss: 17759.4336 - val_mean_absolute_error: 120.9668\n",
      "Epoch 37/100\n",
      "11/11 [==============================] - 0s 10ms/step - loss: 114908.6953 - mean_absolute_error: 298.2856 - val_loss: 29490.3574 - val_mean_absolute_error: 162.3706\n",
      "Epoch 38/100\n",
      "11/11 [==============================] - 0s 7ms/step - loss: 97009.0781 - mean_absolute_error: 282.0728 - val_loss: 43718.4961 - val_mean_absolute_error: 201.4760\n",
      "Epoch 39/100\n",
      "11/11 [==============================] - 0s 19ms/step - loss: 83318.4219 - mean_absolute_error: 268.0551 - val_loss: 59002.7617 - val_mean_absolute_error: 236.3832\n",
      "Epoch 40/100\n",
      "11/11 [==============================] - 0s 8ms/step - loss: 72838.6328 - mean_absolute_error: 254.5096 - val_loss: 73114.9141 - val_mean_absolute_error: 264.5548\n",
      "Epoch 41/100\n",
      "11/11 [==============================] - 0s 15ms/step - loss: 66443.8281 - mean_absolute_error: 244.8775 - val_loss: 87079.7344 - val_mean_absolute_error: 289.7484\n",
      "Epoch 42/100\n",
      "11/11 [==============================] - 0s 8ms/step - loss: 61818.6172 - mean_absolute_error: 235.6989 - val_loss: 99789.7344 - val_mean_absolute_error: 310.9087\n",
      "Epoch 43/100\n",
      "11/11 [==============================] - 0s 18ms/step - loss: 58878.1680 - mean_absolute_error: 228.9375 - val_loss: 111249.2344 - val_mean_absolute_error: 328.8234\n",
      "Epoch 44/100\n",
      "11/11 [==============================] - 0s 8ms/step - loss: 59257.6055 - mean_absolute_error: 226.1854 - val_loss: 122137.9062 - val_mean_absolute_error: 344.9874\n",
      "Epoch 45/100\n",
      "11/11 [==============================] - 0s 17ms/step - loss: 55874.4023 - mean_absolute_error: 218.0882 - val_loss: 130370.8125 - val_mean_absolute_error: 356.7150\n",
      "Epoch 46/100\n",
      "11/11 [==============================] - 0s 15ms/step - loss: 54860.9297 - mean_absolute_error: 213.7122 - val_loss: 108679.4766 - val_mean_absolute_error: 324.8134\n",
      "Epoch 47/100\n",
      "11/11 [==============================] - 0s 13ms/step - loss: 54852.2539 - mean_absolute_error: 213.2217 - val_loss: 127303.1172 - val_mean_absolute_error: 352.3088\n",
      "Epoch 48/100\n",
      "11/11 [==============================] - 0s 13ms/step - loss: 54543.1836 - mean_absolute_error: 211.1924 - val_loss: 134202.6875 - val_mean_absolute_error: 362.0774\n",
      "Epoch 49/100\n",
      "11/11 [==============================] - 0s 13ms/step - loss: 54295.0078 - mean_absolute_error: 209.6082 - val_loss: 133828.3281 - val_mean_absolute_error: 361.5989\n",
      "Epoch 50/100\n",
      "11/11 [==============================] - 0s 11ms/step - loss: 53776.3594 - mean_absolute_error: 208.0750 - val_loss: 142769.1250 - val_mean_absolute_error: 373.8632\n",
      "Epoch 51/100\n",
      "11/11 [==============================] - 0s 8ms/step - loss: 53611.4297 - mean_absolute_error: 206.2615 - val_loss: 145372.0312 - val_mean_absolute_error: 377.3126\n",
      "Epoch 52/100\n",
      "11/11 [==============================] - 0s 9ms/step - loss: 53367.3281 - mean_absolute_error: 205.8562 - val_loss: 143741.4688 - val_mean_absolute_error: 375.1895\n",
      "Epoch 53/100\n",
      "11/11 [==============================] - 0s 22ms/step - loss: 52587.7070 - mean_absolute_error: 204.8250 - val_loss: 134121.8750 - val_mean_absolute_error: 362.1580\n",
      "Epoch 54/100\n",
      "11/11 [==============================] - 0s 14ms/step - loss: 51220.5039 - mean_absolute_error: 202.8330 - val_loss: 131618.1719 - val_mean_absolute_error: 358.8393\n",
      "Epoch 55/100\n",
      "11/11 [==============================] - 0s 12ms/step - loss: 50379.1836 - mean_absolute_error: 202.8278 - val_loss: 131374.2812 - val_mean_absolute_error: 358.5923\n",
      "Epoch 56/100\n",
      "11/11 [==============================] - 0s 7ms/step - loss: 49414.7461 - mean_absolute_error: 198.5220 - val_loss: 126779.8359 - val_mean_absolute_error: 352.0630\n",
      "Epoch 57/100\n",
      "11/11 [==============================] - 0s 7ms/step - loss: 48261.6914 - mean_absolute_error: 196.1039 - val_loss: 130019.3594 - val_mean_absolute_error: 356.9399\n",
      "Epoch 58/100\n",
      "11/11 [==============================] - 0s 8ms/step - loss: 47671.7227 - mean_absolute_error: 193.5889 - val_loss: 117579.4531 - val_mean_absolute_error: 338.7288\n",
      "Epoch 59/100\n",
      "11/11 [==============================] - 0s 15ms/step - loss: 46245.1094 - mean_absolute_error: 192.2205 - val_loss: 95311.8594 - val_mean_absolute_error: 305.2763\n",
      "Epoch 60/100\n",
      "11/11 [==============================] - 0s 14ms/step - loss: 41950.9492 - mean_absolute_error: 187.2312 - val_loss: 102548.9141 - val_mean_absolute_error: 316.7345\n",
      "Epoch 61/100\n",
      "11/11 [==============================] - 0s 17ms/step - loss: 41746.5977 - mean_absolute_error: 184.3430 - val_loss: 98686.4844 - val_mean_absolute_error: 310.2513\n",
      "Epoch 62/100\n",
      "11/11 [==============================] - 0s 10ms/step - loss: 40584.1875 - mean_absolute_error: 181.5146 - val_loss: 79821.7734 - val_mean_absolute_error: 279.0970\n",
      "Epoch 63/100\n",
      "11/11 [==============================] - 0s 17ms/step - loss: 35381.8867 - mean_absolute_error: 169.5366 - val_loss: 87441.1875 - val_mean_absolute_error: 292.6469\n",
      "Epoch 64/100\n",
      "11/11 [==============================] - 0s 7ms/step - loss: 33880.0078 - mean_absolute_error: 165.2697 - val_loss: 64028.5703 - val_mean_absolute_error: 248.7969\n",
      "Epoch 65/100\n",
      "11/11 [==============================] - 0s 8ms/step - loss: 30936.3984 - mean_absolute_error: 159.8596 - val_loss: 63325.2734 - val_mean_absolute_error: 247.7350\n",
      "Epoch 66/100\n",
      "11/11 [==============================] - 0s 13ms/step - loss: 29756.3672 - mean_absolute_error: 154.5466 - val_loss: 72073.2734 - val_mean_absolute_error: 265.1125\n",
      "Epoch 67/100\n",
      "11/11 [==============================] - 0s 7ms/step - loss: 27629.8613 - mean_absolute_error: 146.7782 - val_loss: 59451.8555 - val_mean_absolute_error: 239.6468\n",
      "Epoch 68/100\n",
      "11/11 [==============================] - 0s 7ms/step - loss: 25628.8496 - mean_absolute_error: 141.5415 - val_loss: 54855.5312 - val_mean_absolute_error: 229.6875\n",
      "Epoch 69/100\n",
      "11/11 [==============================] - 0s 7ms/step - loss: 24254.7559 - mean_absolute_error: 136.8899 - val_loss: 53378.5117 - val_mean_absolute_error: 226.8770\n",
      "Epoch 70/100\n",
      "11/11 [==============================] - 0s 7ms/step - loss: 23198.5352 - mean_absolute_error: 134.2249 - val_loss: 52469.2617 - val_mean_absolute_error: 225.4044\n",
      "Epoch 71/100\n",
      "11/11 [==============================] - 0s 7ms/step - loss: 22620.5625 - mean_absolute_error: 128.5680 - val_loss: 70820.5859 - val_mean_absolute_error: 263.7945\n",
      "Epoch 72/100\n",
      "11/11 [==============================] - 0s 7ms/step - loss: 22519.5977 - mean_absolute_error: 128.0046 - val_loss: 36843.1211 - val_mean_absolute_error: 186.3397\n",
      "Epoch 73/100\n",
      "11/11 [==============================] - 0s 7ms/step - loss: 20607.5801 - mean_absolute_error: 128.6903 - val_loss: 44662.6953 - val_mean_absolute_error: 207.3728\n",
      "Epoch 74/100\n",
      "11/11 [==============================] - 0s 7ms/step - loss: 18956.0293 - mean_absolute_error: 119.7757 - val_loss: 41493.4297 - val_mean_absolute_error: 199.0411\n",
      "Epoch 75/100\n",
      "11/11 [==============================] - 0s 16ms/step - loss: 17417.0156 - mean_absolute_error: 115.2221 - val_loss: 39304.9180 - val_mean_absolute_error: 192.9469\n",
      "Epoch 76/100\n",
      "11/11 [==============================] - 0s 14ms/step - loss: 16534.7578 - mean_absolute_error: 111.3867 - val_loss: 44599.9453 - val_mean_absolute_error: 207.0544\n",
      "Epoch 77/100\n",
      "11/11 [==============================] - 0s 10ms/step - loss: 15731.3047 - mean_absolute_error: 107.2993 - val_loss: 39959.8203 - val_mean_absolute_error: 194.9409\n",
      "Epoch 78/100\n",
      "11/11 [==============================] - 0s 15ms/step - loss: 14893.3232 - mean_absolute_error: 103.8784 - val_loss: 37052.6172 - val_mean_absolute_error: 186.9124\n",
      "Epoch 79/100\n",
      "11/11 [==============================] - 0s 8ms/step - loss: 14255.8232 - mean_absolute_error: 101.8567 - val_loss: 34478.3906 - val_mean_absolute_error: 179.6133\n",
      "Epoch 80/100\n",
      "11/11 [==============================] - 0s 8ms/step - loss: 13382.0215 - mean_absolute_error: 97.9242 - val_loss: 36403.1602 - val_mean_absolute_error: 185.6698\n",
      "Epoch 81/100\n",
      "11/11 [==============================] - 0s 7ms/step - loss: 12559.3916 - mean_absolute_error: 94.9121 - val_loss: 31066.3125 - val_mean_absolute_error: 173.0050\n",
      "Epoch 82/100\n",
      "11/11 [==============================] - 0s 8ms/step - loss: 10081.7129 - mean_absolute_error: 84.6070 - val_loss: 13994.6875 - val_mean_absolute_error: 108.4721\n",
      "Epoch 83/100\n",
      "11/11 [==============================] - 0s 15ms/step - loss: 10272.6572 - mean_absolute_error: 86.2903 - val_loss: 20406.4551 - val_mean_absolute_error: 137.5305\n",
      "Epoch 84/100\n",
      "11/11 [==============================] - 0s 13ms/step - loss: 8597.6709 - mean_absolute_error: 77.0531 - val_loss: 19182.9512 - val_mean_absolute_error: 134.2299\n",
      "Epoch 85/100\n",
      "11/11 [==============================] - 0s 13ms/step - loss: 7700.0127 - mean_absolute_error: 72.8789 - val_loss: 12171.8467 - val_mean_absolute_error: 103.0401\n",
      "Epoch 86/100\n",
      "11/11 [==============================] - 0s 8ms/step - loss: 6473.8535 - mean_absolute_error: 66.2627 - val_loss: 6981.8540 - val_mean_absolute_error: 74.7944\n",
      "Epoch 87/100\n",
      "11/11 [==============================] - 0s 7ms/step - loss: 6031.9116 - mean_absolute_error: 64.5534 - val_loss: 3322.1350 - val_mean_absolute_error: 44.0203\n",
      "Epoch 88/100\n",
      "11/11 [==============================] - 0s 6ms/step - loss: 4658.9556 - mean_absolute_error: 55.1413 - val_loss: 5064.6504 - val_mean_absolute_error: 62.4753\n",
      "Epoch 89/100\n",
      "11/11 [==============================] - 0s 8ms/step - loss: 4084.8848 - mean_absolute_error: 52.1276 - val_loss: 3595.7869 - val_mean_absolute_error: 45.0062\n",
      "Epoch 90/100\n",
      "11/11 [==============================] - 0s 15ms/step - loss: 3015.7634 - mean_absolute_error: 43.6304 - val_loss: 4917.7090 - val_mean_absolute_error: 59.6092\n",
      "Epoch 91/100\n",
      "11/11 [==============================] - 0s 16ms/step - loss: 3188.2627 - mean_absolute_error: 45.6472 - val_loss: 3585.1421 - val_mean_absolute_error: 43.3893\n",
      "Epoch 92/100\n",
      "11/11 [==============================] - 0s 15ms/step - loss: 2486.0645 - mean_absolute_error: 39.1622 - val_loss: 3585.9114 - val_mean_absolute_error: 43.0892\n",
      "Epoch 93/100\n",
      "11/11 [==============================] - 0s 8ms/step - loss: 2341.6648 - mean_absolute_error: 37.4767 - val_loss: 4687.0850 - val_mean_absolute_error: 55.5569\n",
      "Epoch 94/100\n",
      "11/11 [==============================] - 0s 7ms/step - loss: 2738.8081 - mean_absolute_error: 41.6451 - val_loss: 3873.3062 - val_mean_absolute_error: 45.3955\n",
      "Epoch 95/100\n",
      "11/11 [==============================] - 0s 6ms/step - loss: 2574.5876 - mean_absolute_error: 40.4844 - val_loss: 4640.1787 - val_mean_absolute_error: 54.6672\n",
      "Epoch 96/100\n",
      "11/11 [==============================] - 0s 7ms/step - loss: 2703.5552 - mean_absolute_error: 41.3184 - val_loss: 5243.0010 - val_mean_absolute_error: 60.7434\n",
      "Epoch 97/100\n",
      "11/11 [==============================] - 0s 8ms/step - loss: 2277.1736 - mean_absolute_error: 37.4384 - val_loss: 3578.4302 - val_mean_absolute_error: 42.5514\n",
      "Epoch 98/100\n",
      "11/11 [==============================] - 0s 17ms/step - loss: 2584.5410 - mean_absolute_error: 40.4622 - val_loss: 3554.7097 - val_mean_absolute_error: 42.4525\n",
      "Epoch 99/100\n",
      "11/11 [==============================] - 0s 13ms/step - loss: 2060.5427 - mean_absolute_error: 35.4848 - val_loss: 3567.4668 - val_mean_absolute_error: 42.6114\n",
      "Epoch 100/100\n",
      "11/11 [==============================] - 0s 12ms/step - loss: 1945.4337 - mean_absolute_error: 34.2703 - val_loss: 3696.9614 - val_mean_absolute_error: 43.8047\n"
     ]
    },
    {
     "data": {
      "text/plain": [
       "<keras.callbacks.History at 0x2058285f490>"
      ]
     },
     "execution_count": 595,
     "metadata": {},
     "output_type": "execute_result"
    }
   ],
   "source": [
    "# 3, 1 because 3 days look back and 1 for 1 variable\n",
    "model = Sequential([layers.Input((3,1)),\n",
    "# the bigger the number, the more complicated, the more likely it is to overfit\n",
    "                    layers.LSTM(64),\n",
    "                    layers.Dense(32, activation = 'relu'),\n",
    "                    layers.Dense(32, activation = 'relu'),\n",
    "                    # default is linear\n",
    "                    layers.Dense(1)])\n",
    "\n",
    "model.compile(loss='mse', optimizer=Adam(learning_rate=0.001), metrics=['mean_absolute_error'])\n",
    "\n",
    "model.fit(x_train, y_train, validation_data =(x_val, y_val), epochs = 100)\n"
   ]
  },
  {
   "cell_type": "code",
   "execution_count": 596,
   "metadata": {},
   "outputs": [
    {
     "name": "stdout",
     "output_type": "stream",
     "text": [
      "11/11 [==============================] - 5s 7ms/step\n"
     ]
    },
    {
     "data": {
      "text/plain": [
       "<matplotlib.legend.Legend at 0x205930663a0>"
      ]
     },
     "execution_count": 596,
     "metadata": {},
     "output_type": "execute_result"
    },
    {
     "data": {
      "image/png": "[encoded data removed]",
      "text/plain": [
       "<Figure size 432x288 with 1 Axes>"
      ]
     },
     "metadata": {
      "needs_background": "light"
     },
     "output_type": "display_data"
    }
   ],
   "source": [
    "prediction = model.predict(x_train).flatten()\n",
    "plt.plot(dates_train, prediction)\n",
    "plt.plot(dates_train, y_train)\n",
    "plt.legend(['Prediction', 'Actual'])"
   ]
  },
  {
   "cell_type": "code",
   "execution_count": null,
   "metadata": {},
   "outputs": [],
   "source": []
  }
 ],
 "metadata": {
  "kernelspec": {
   "display_name": "Python 3.9.2 64-bit",
   "language": "python",
   "name": "python3"
  },
  "language_info": {
   "codemirror_mode": {
    "name": "ipython",
    "version": 3
   },
   "file_extension": ".py",
   "mimetype": "text/x-python",
   "name": "python",
   "nbconvert_exporter": "python",
   "pygments_lexer": "ipython3",
   "version": "3.9.2"
  },
  "orig_nbformat": 4,
  "vscode": {
   "interpreter": {
    "hash": "82ed002fa2d4956f5c6aec99bcefe0f73a9f79882f3c9e2319b14958a5896ac5"
   }
  }
 },
 "nbformat": 4,
 "nbformat_minor": 2
}
